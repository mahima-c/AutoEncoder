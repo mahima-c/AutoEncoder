{
  "nbformat": 4,
  "nbformat_minor": 0,
  "metadata": {
    "colab": {
      "name": "Autoencoder.ipynb",
      "provenance": [],
      "authorship_tag": "ABX9TyPt7PK2upUTRCZQHldrtAAn",
      "include_colab_link": true
    },
    "kernelspec": {
      "name": "python3",
      "display_name": "Python 3"
    }
  },
  "cells": [
    {
      "cell_type": "markdown",
      "metadata": {
        "id": "view-in-github",
        "colab_type": "text"
      },
      "source": [
        "<a href=\"https://colab.research.google.com/github/mahima-c/AutoEncoder/blob/main/Autoencoder.ipynb\" target=\"_parent\"><img src=\"https://colab.research.google.com/assets/colab-badge.svg\" alt=\"Open In Colab\"/></a>"
      ]
    },
    {
      "cell_type": "code",
      "metadata": {
        "id": "wjkxiqie1SQV"
      },
      "source": [
        "import matplotlib.pyplot as plt\r\n",
        "import numpy as np\r\n",
        "import pandas as pd\r\n",
        "import tensorflow as tf\r\n",
        "\r\n",
        "from sklearn.metrics import accuracy_score, precision_score, recall_score\r\n",
        "from sklearn.model_selection import train_test_split\r\n",
        "from tensorflow.keras import layers, losses\r\n",
        "from tensorflow.keras.datasets import fashion_mnist\r\n",
        "from tensorflow.keras.models import Model"
      ],
      "execution_count": 1,
      "outputs": []
    },
    {
      "cell_type": "markdown",
      "metadata": {
        "id": "bzPJcHuz-gDb"
      },
      "source": [
        "**Load data**"
      ]
    },
    {
      "cell_type": "code",
      "metadata": {
        "colab": {
          "base_uri": "https://localhost:8080/"
        },
        "id": "pB_YGCNz1Yd4",
        "outputId": "e6e53706-57d1-4efa-ea25-796d479c31bb"
      },
      "source": [
        "(x_train, _), (x_test, _) = fashion_mnist.load_data()\r\n",
        "\r\n",
        "x_train = x_train.astype('float32') / 255.\r\n",
        "x_test = x_test.astype('float32') / 255.\r\n",
        "\r\n",
        "print (x_train.shape)\r\n",
        "print (x_test.shape)"
      ],
      "execution_count": 2,
      "outputs": [
        {
          "output_type": "stream",
          "text": [
            "Downloading data from https://storage.googleapis.com/tensorflow/tf-keras-datasets/train-labels-idx1-ubyte.gz\n",
            "32768/29515 [=================================] - 0s 0us/step\n",
            "Downloading data from https://storage.googleapis.com/tensorflow/tf-keras-datasets/train-images-idx3-ubyte.gz\n",
            "26427392/26421880 [==============================] - 0s 0us/step\n",
            "Downloading data from https://storage.googleapis.com/tensorflow/tf-keras-datasets/t10k-labels-idx1-ubyte.gz\n",
            "8192/5148 [===============================================] - 0s 0us/step\n",
            "Downloading data from https://storage.googleapis.com/tensorflow/tf-keras-datasets/t10k-images-idx3-ubyte.gz\n",
            "4423680/4422102 [==============================] - 0s 0us/step\n",
            "(60000, 28, 28)\n",
            "(10000, 28, 28)\n"
          ],
          "name": "stdout"
        }
      ]
    },
    {
      "cell_type": "code",
      "metadata": {
        "id": "P1a8om6k1udo"
      },
      "source": [
        "latent_dim=64\r\n",
        "class Autoencoder(Model):\r\n",
        "  def __init__(self,latent_dim):\r\n",
        "    super(Autoencoder, self).__init__()\r\n",
        "    self.latent_dim = latent_dim   \r\n",
        "    self.encoder = tf.keras.Sequential([\r\n",
        "      layers.Flatten(),\r\n",
        "      layers.Dense(112, activation='relu'),\r\n",
        "      layers.Dense(224, activation='relu'),\r\n",
        "      layers.Dense(448, activation='relu'),\r\n",
        "      layers.Dense(224, activation='relu'),\r\n",
        "      layers.Dense(112, activation='relu'),\r\n",
        "\r\n",
        "      layers.Dense(latent_dim, activation='relu'),\r\n",
        "\r\n",
        "    ])\r\n",
        "    self.decoder = tf.keras.Sequential([\r\n",
        "      layers.Dense(112, activation='relu'),\r\n",
        "      layers.Dense(224, activation='relu'),\r\n",
        "      layers.Dense(448, activation='relu'),\r\n",
        "      layers.Dense(224, activation='relu'),\r\n",
        "      layers.Dense(112, activation='relu'),  \r\n",
        "                                      \r\n",
        "      layers.Dense(784, activation='sigmoid'),\r\n",
        "      layers.Reshape((28, 28))\r\n",
        "    ])\r\n",
        "\r\n",
        "  def call(self, x):\r\n",
        "    encoded = self.encoder(x)\r\n",
        "    decoded = self.decoder(encoded)\r\n",
        "    return decoded\r\n",
        "\r\n",
        "autoencoder = Autoencoder(latent_dim)"
      ],
      "execution_count": 16,
      "outputs": []
    },
    {
      "cell_type": "code",
      "metadata": {
        "id": "5L95OtoM3His"
      },
      "source": [
        "autoencoder.compile(optimizer='adam', loss=losses.MeanSquaredError())\r\n"
      ],
      "execution_count": 17,
      "outputs": []
    },
    {
      "cell_type": "code",
      "metadata": {
        "colab": {
          "base_uri": "https://localhost:8080/"
        },
        "id": "Dz1ocLYF3Tlr",
        "outputId": "7d117346-b507-45c5-d9e4-8a7db3c325fe"
      },
      "source": [
        "autoencoder.fit(x_train, x_train,\r\n",
        "                epochs=20,\r\n",
        "                shuffle=True,\r\n",
        "                validation_data=(x_test, x_test))"
      ],
      "execution_count": 18,
      "outputs": [
        {
          "output_type": "stream",
          "text": [
            "Epoch 1/20\n",
            "1875/1875 [==============================] - 25s 13ms/step - loss: 0.0465 - val_loss: 0.0239\n",
            "Epoch 2/20\n",
            "1875/1875 [==============================] - 23s 12ms/step - loss: 0.0225 - val_loss: 0.0206\n",
            "Epoch 3/20\n",
            "1875/1875 [==============================] - 23s 12ms/step - loss: 0.0203 - val_loss: 0.0200\n",
            "Epoch 4/20\n",
            "1875/1875 [==============================] - 24s 13ms/step - loss: 0.0194 - val_loss: 0.0189\n",
            "Epoch 5/20\n",
            "1875/1875 [==============================] - 24s 13ms/step - loss: 0.0187 - val_loss: 0.0184\n",
            "Epoch 6/20\n",
            "1875/1875 [==============================] - 23s 13ms/step - loss: 0.0180 - val_loss: 0.0174\n",
            "Epoch 7/20\n",
            "1875/1875 [==============================] - 23s 12ms/step - loss: 0.0173 - val_loss: 0.0169\n",
            "Epoch 8/20\n",
            "1875/1875 [==============================] - 23s 12ms/step - loss: 0.0164 - val_loss: 0.0168\n",
            "Epoch 9/20\n",
            "1875/1875 [==============================] - 22s 12ms/step - loss: 0.0160 - val_loss: 0.0159\n",
            "Epoch 10/20\n",
            "1875/1875 [==============================] - 22s 12ms/step - loss: 0.0156 - val_loss: 0.0159\n",
            "Epoch 11/20\n",
            "1875/1875 [==============================] - 23s 12ms/step - loss: 0.0153 - val_loss: 0.0154\n",
            "Epoch 12/20\n",
            "1875/1875 [==============================] - 24s 13ms/step - loss: 0.0150 - val_loss: 0.0153\n",
            "Epoch 13/20\n",
            "1875/1875 [==============================] - 22s 12ms/step - loss: 0.0148 - val_loss: 0.0149\n",
            "Epoch 14/20\n",
            "1875/1875 [==============================] - 22s 12ms/step - loss: 0.0146 - val_loss: 0.0147\n",
            "Epoch 15/20\n",
            "1875/1875 [==============================] - 23s 12ms/step - loss: 0.0144 - val_loss: 0.0149\n",
            "Epoch 16/20\n",
            "1875/1875 [==============================] - 23s 12ms/step - loss: 0.0144 - val_loss: 0.0146\n",
            "Epoch 17/20\n",
            "1875/1875 [==============================] - 23s 12ms/step - loss: 0.0143 - val_loss: 0.0146\n",
            "Epoch 18/20\n",
            "1875/1875 [==============================] - 24s 13ms/step - loss: 0.0141 - val_loss: 0.0142\n",
            "Epoch 19/20\n",
            "1875/1875 [==============================] - 24s 13ms/step - loss: 0.0140 - val_loss: 0.0143\n",
            "Epoch 20/20\n",
            "1875/1875 [==============================] - 22s 12ms/step - loss: 0.0139 - val_loss: 0.0144\n"
          ],
          "name": "stdout"
        },
        {
          "output_type": "execute_result",
          "data": {
            "text/plain": [
              "<tensorflow.python.keras.callbacks.History at 0x7f60118828d0>"
            ]
          },
          "metadata": {
            "tags": []
          },
          "execution_count": 18
        }
      ]
    },
    {
      "cell_type": "code",
      "metadata": {
        "id": "QbnWby0v3mhG"
      },
      "source": [
        "encoded_imgs = autoencoder.encoder(x_test).numpy()\r\n",
        "decoded_imgs = autoencoder.decoder(encoded_imgs).numpy()"
      ],
      "execution_count": 19,
      "outputs": []
    },
    {
      "cell_type": "markdown",
      "metadata": {
        "id": "lfr0nDC2BvvQ"
      },
      "source": [
        "**Image Reconstruction**"
      ]
    },
    {
      "cell_type": "code",
      "metadata": {
        "colab": {
          "base_uri": "https://localhost:8080/",
          "height": 229
        },
        "id": "qVWHJT844YCf",
        "outputId": "01620498-1b69-4c6e-b660-e7a684352aab"
      },
      "source": [
        "n = 10\r\n",
        "plt.figure(figsize=(20, 4))\r\n",
        "for i in range(n):\r\n",
        "  # display original\r\n",
        "  ax = plt.subplot(2, n, i + 1)\r\n",
        "  plt.imshow(x_test[i])\r\n",
        "  plt.title(\"original\")\r\n",
        "  plt.gray()\r\n",
        "  ax.get_xaxis().set_visible(False)\r\n",
        "  ax.get_yaxis().set_visible(False)\r\n",
        "\r\n",
        "\r\n",
        "\r\n",
        "  # display reconstruction\r\n",
        "  ax = plt.subplot(2, n, i + 1 + n)\r\n",
        "  plt.imshow(decoded_imgs[i])\r\n",
        "  plt.title(\"reconstructed\")\r\n",
        "  plt.gray()\r\n",
        "  ax.get_xaxis().set_visible(False)\r\n",
        "  ax.get_yaxis().set_visible(False)\r\n",
        "plt.show()"
      ],
      "execution_count": 20,
      "outputs": [
        {
          "output_type": "display_data",
          "data": {
            "image/png": "[encoded data removed]",
            "text/plain": [
              "<Figure size 1440x288 with 20 Axes>"
            ]
          },
          "metadata": {
            "tags": [],
            "needs_background": "light"
          }
        }
      ]
    },
    {
      "cell_type": "markdown",
      "metadata": {
        "id": "kJljSWwCB44_"
      },
      "source": [
        "# **Encoded From**"
      ]
    },
    {
      "cell_type": "code",
      "metadata": {
        "colab": {
          "base_uri": "https://localhost:8080/",
          "height": 126
        },
        "id": "pFAyJ4_E_njo",
        "outputId": "9e9ddcc9-56a4-406a-9c5d-d94b82ef5466"
      },
      "source": [
        "plt.figure(figsize=(20, 4))\r\n",
        "for i in range(10):\r\n",
        "  # display original\r\n",
        "  ax = plt.subplot(2, n, i + 1)\r\n",
        "  plt.imshow(encoded_imgs[i].reshape(8,8))  \r\n",
        "  plt.title(\"Encoded\")\r\n",
        "  plt.gray()\r\n",
        "  ax.get_xaxis().set_visible(False)\r\n",
        "  ax.get_yaxis().set_visible(False)  "
      ],
      "execution_count": 25,
      "outputs": [
        {
          "output_type": "display_data",
          "data": {
            "image/png": "[encoded data removed]",
            "text/plain": [
              "<Figure size 1440x288 with 10 Axes>"
            ]
          },
          "metadata": {
            "tags": [],
            "needs_background": "light"
          }
        }
      ]
    }
  ]
}